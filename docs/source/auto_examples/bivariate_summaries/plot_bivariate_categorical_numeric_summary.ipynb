{
  "cells": [
    {
      "cell_type": "code",
      "execution_count": null,
      "metadata": {
        "collapsed": false
      },
      "outputs": [],
      "source": [
        "%matplotlib inline"
      ]
    },
    {
      "cell_type": "markdown",
      "metadata": {},
      "source": [
        "\n# Bivariate Categorical-Numeric Summary\n\nExample of bivariate eda summary for a categorical independent variable and a numeric dependent variable.\n\nThe summary computes the following:\n\n- Overlapping histogram/kde plots of distributions by level\n- Side by side boxplots per level\n"
      ]
    },
    {
      "cell_type": "code",
      "execution_count": null,
      "metadata": {
        "collapsed": false
      },
      "outputs": [],
      "source": [
        "import pandas as pd\nimport plotly\n\nimport intedact"
      ]
    },
    {
      "cell_type": "markdown",
      "metadata": {},
      "source": [
        "Here we look at how diamond price changes with cut quality\n\n\n"
      ]
    },
    {
      "cell_type": "code",
      "execution_count": null,
      "metadata": {
        "collapsed": false
      },
      "outputs": [],
      "source": [
        "data = pd.read_csv(\n    \"https://raw.githubusercontent.com/mwaskom/seaborn-data/master/diamonds.csv\"\n)\ndata[\"cut\"] = pd.Categorical(\n    data[\"cut\"],\n    categories=[\"Fair\", \"Good\", \"Very Good\", \"Premium\", \"Ideal\"],\n    ordered=True,\n)\nfig = intedact.categorical_numeric_summary(data, \"cut\", \"price\", fig_width=700)\nplotly.io.show(fig)"
      ]
    }
  ],
  "metadata": {
    "kernelspec": {
      "display_name": "Python 3",
      "language": "python",
      "name": "python3"
    },
    "language_info": {
      "codemirror_mode": {
        "name": "ipython",
        "version": 3
      },
      "file_extension": ".py",
      "mimetype": "text/x-python",
      "name": "python",
      "nbconvert_exporter": "python",
      "pygments_lexer": "ipython3",
      "version": "3.9.12"
    }
  },
  "nbformat": 4,
  "nbformat_minor": 0
}