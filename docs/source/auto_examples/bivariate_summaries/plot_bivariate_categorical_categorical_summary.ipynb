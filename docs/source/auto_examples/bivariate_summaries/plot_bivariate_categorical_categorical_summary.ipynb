{
  "cells": [
    {
      "cell_type": "code",
      "execution_count": null,
      "metadata": {
        "collapsed": false
      },
      "outputs": [],
      "source": [
        "%matplotlib inline"
      ]
    },
    {
      "cell_type": "markdown",
      "metadata": {},
      "source": [
        "\n# Bivariate Categorical-Categorical Summary\n\nExample of bivariate eda summary for a pair of categorical variables\n\nThe summary computes the following:\n\n- Categorical heatmap with counts and percentages for each level combo\n- Barplot showing distribution of column2's levels within each level of column1\n- Lineplot showing distribution of column2's levels across each level of column1\n"
      ]
    },
    {
      "cell_type": "code",
      "execution_count": null,
      "metadata": {
        "collapsed": false
      },
      "outputs": [],
      "source": [
        "import pandas as pd\nimport plotly\n\nimport intedact"
      ]
    },
    {
      "cell_type": "markdown",
      "metadata": {},
      "source": [
        "Here we look at how diamond cut quality and clarity quality are related.\n\n\n"
      ]
    },
    {
      "cell_type": "code",
      "execution_count": null,
      "metadata": {
        "collapsed": false
      },
      "outputs": [],
      "source": [
        "data = pd.read_csv(\n    \"https://raw.githubusercontent.com/mwaskom/seaborn-data/master/diamonds.csv\"\n)\ndata[\"cut\"] = pd.Categorical(\n    data[\"cut\"],\n    categories=[\"Fair\", \"Good\", \"Very Good\", \"Premium\", \"Ideal\"],\n    ordered=True,\n)\ndata[\"clarity\"] = pd.Categorical(\n    data[\"clarity\"],\n    categories=[\"I1\", \"SI2\", \"SI1\", \"VS2\", \"VS1\", \"VVS2\", \"VVS1\", \"IF\"],\n    ordered=True,\n)\nfig = intedact.categorical_categorical_summary(\n    data, \"clarity\", \"cut\", barmode=\"group\", fig_width=700\n)\nplotly.io.show(fig)"
      ]
    }
  ],
  "metadata": {
    "kernelspec": {
      "display_name": "Python 3",
      "language": "python",
      "name": "python3"
    },
    "language_info": {
      "codemirror_mode": {
        "name": "ipython",
        "version": 3
      },
      "file_extension": ".py",
      "mimetype": "text/x-python",
      "name": "python",
      "nbconvert_exporter": "python",
      "pygments_lexer": "ipython3",
      "version": "3.9.12"
    }
  },
  "nbformat": 4,
  "nbformat_minor": 0
}