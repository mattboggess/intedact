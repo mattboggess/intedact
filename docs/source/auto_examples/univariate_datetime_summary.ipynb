{
  "cells": [
    {
      "cell_type": "code",
      "execution_count": null,
      "metadata": {
        "collapsed": false
      },
      "outputs": [],
      "source": [
        "%matplotlib inline"
      ]
    },
    {
      "cell_type": "markdown",
      "metadata": {},
      "source": [
        "\n# Univariate Datetime Summary\n\nExample of univariate eda summary for a datetime variable. Here we look at posting times for TidyTuesday tweets.\n\nThe datetime summary computes the following:\n\n- A time seriesplot aggregated according to the `ts_freq` parameter\n- A boxplot and histogram of the time differences between successive observations. `delta_units` controls the units of this.\n- Barplots showing counts by day of week, month, hour of day, day of month\n- A table with summary statistics for the time differences and time series itself\n"
      ]
    },
    {
      "cell_type": "code",
      "execution_count": null,
      "metadata": {
        "collapsed": false
      },
      "outputs": [],
      "source": [
        "import pandas as pd\nimport intedact\nimport warnings\nwarnings.filterwarnings(\"ignore\")\n\ndata = pd.read_csv(\"https://raw.githubusercontent.com/rfordatascience/tidytuesday/master/tidytuesday_tweets/data.csv\")\ndata['created_at'] = pd.to_datetime(data.created_at)\ntable, fig = intedact.datetime_univariate_summary(data, 'created_at', fontsize=10)\nfig.show()\ntable"
      ]
    },
    {
      "cell_type": "markdown",
      "metadata": {},
      "source": [
        "By default, the summary tries to infer reasonable units for the time differences and time series. We can change\nthese by using time unit strings for the `ts_freq` and `delta_units` parameters.\n\n\n"
      ]
    },
    {
      "cell_type": "code",
      "execution_count": null,
      "metadata": {
        "collapsed": false
      },
      "outputs": [],
      "source": [
        "table, fig = intedact.datetime_univariate_summary(data, 'created_at', ts_freq='1 day', delta_units='1 minute', fontsize=10)\nfig.show()\ntable"
      ]
    },
    {
      "cell_type": "markdown",
      "metadata": {},
      "source": [
        "Example of changing plot type, removing trend line, and removing outliers.\n\n\n"
      ]
    },
    {
      "cell_type": "code",
      "execution_count": null,
      "metadata": {
        "collapsed": false
      },
      "outputs": [],
      "source": [
        "table, fig = intedact.datetime_univariate_summary(data, 'created_at', ts_type='point', trend_line=None, upper_quantile=.99, fontsize=10)\nfig.show()\ntable"
      ]
    }
  ],
  "metadata": {
    "kernelspec": {
      "display_name": "Python 3",
      "language": "python",
      "name": "python3"
    },
    "language_info": {
      "codemirror_mode": {
        "name": "ipython",
        "version": 3
      },
      "file_extension": ".py",
      "mimetype": "text/x-python",
      "name": "python",
      "nbconvert_exporter": "python",
      "pygments_lexer": "ipython3",
      "version": "3.9.12"
    }
  },
  "nbformat": 4,
  "nbformat_minor": 0
}