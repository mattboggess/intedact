{
  "cells": [
    {
      "cell_type": "code",
      "execution_count": null,
      "metadata": {
        "collapsed": false
      },
      "outputs": [],
      "source": [
        "%matplotlib inline"
      ]
    },
    {
      "cell_type": "markdown",
      "metadata": {},
      "source": [
        "\n# Univariate Categorical Summary\n\nExample of univariate eda summary for a categorical variable.\n\nThe categorical summary computes the following:\n\n- A countplot with counts and percentages by level of the categorical\n- A table with summary statistics\n"
      ]
    },
    {
      "cell_type": "code",
      "execution_count": null,
      "metadata": {
        "collapsed": false
      },
      "outputs": [],
      "source": [
        "import warnings\nwarnings.filterwarnings(\"ignore\")\n\nimport pandas as pd\nimport intedact\nimport seaborn as sns"
      ]
    },
    {
      "cell_type": "markdown",
      "metadata": {},
      "source": [
        "For our first example, we plot the name of countries who have had GDPR violations.\nBy default, the plot will try to order and orient the columns appropriately. Here we order by descending count\nand the plot was flipped horizontally due to the number of levels in the variable.\n\n\n"
      ]
    },
    {
      "cell_type": "code",
      "execution_count": null,
      "metadata": {
        "collapsed": false
      },
      "outputs": [],
      "source": [
        "data = pd.read_csv(\"https://raw.githubusercontent.com/rfordatascience/tidytuesday/master/data/2020/2020-04-21/gdpr_violations.tsv\", sep=\"\\t\")\ntable, fig = intedact.categorical_univariate_summary(data, 'name', fontsize=10)\nfig.show()\ntable"
      ]
    },
    {
      "cell_type": "markdown",
      "metadata": {},
      "source": [
        "We can do additional things such as condense extra columns into an \"Other\" column, add a bar for missing values,\nand change the sort order to sort alphabetically.\n\n\n"
      ]
    },
    {
      "cell_type": "code",
      "execution_count": null,
      "metadata": {
        "collapsed": false
      },
      "outputs": [],
      "source": [
        "table, fig = intedact.categorical_univariate_summary(data, 'name', include_missing=True, order=\"sorted\", max_levels=10, fontsize=10)\nfig.show()\ntable"
      ]
    },
    {
      "cell_type": "markdown",
      "metadata": {},
      "source": [
        "To handle ordinal variable sorting, one must convert the column to an ordered categorical data type. Here's an example\nof this for the diamonds dataset.\n\n\n"
      ]
    },
    {
      "cell_type": "code",
      "execution_count": null,
      "metadata": {
        "collapsed": false
      },
      "outputs": [],
      "source": [
        "data = sns.load_dataset(\"diamonds\")\ndata[\"clarity\"] = pd.Categorical(data[\"clarity\"], categories=[\"I1\", \"SI1\", \"SI2\", \"VS2\", \"VS1\", \"VVS2\", \"VVS1\", \"IF\"], ordered=True)\ntable, fig = intedact.categorical_univariate_summary(data, \"clarity\", flip_axis=False, fontsize=10)\nfig.show()\ntable"
      ]
    }
  ],
  "metadata": {
    "kernelspec": {
      "display_name": "Python 3",
      "language": "python",
      "name": "python3"
    },
    "language_info": {
      "codemirror_mode": {
        "name": "ipython",
        "version": 3
      },
      "file_extension": ".py",
      "mimetype": "text/x-python",
      "name": "python",
      "nbconvert_exporter": "python",
      "pygments_lexer": "ipython3",
      "version": "3.9.12"
    }
  },
  "nbformat": 4,
  "nbformat_minor": 0
}