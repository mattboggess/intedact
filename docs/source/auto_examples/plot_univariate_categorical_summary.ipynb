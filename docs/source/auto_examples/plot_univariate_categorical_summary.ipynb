{
 "cells": [
  {
   "cell_type": "code",
   "execution_count": null,
   "metadata": {
    "collapsed": false,
    "jupyter": {
     "outputs_hidden": false
    }
   },
   "outputs": [],
   "source": [
    "%matplotlib inline"
   ]
  },
  {
   "cell_type": "markdown",
   "metadata": {},
   "source": [
    "\n",
    "# Univariate Categorical Summary\n",
    "\n",
    "Example of univariate eda summary for a categorical variable.\n",
    "\n",
    "The categorical summary computes the following:\n",
    "\n",
    "- A countplot with counts and percentages by level of the categorical\n",
    "- A table with summary statistics\n"
   ]
  },
  {
   "cell_type": "code",
   "execution_count": null,
   "metadata": {
    "collapsed": false,
    "jupyter": {
     "outputs_hidden": false
    }
   },
   "outputs": [],
   "source": [
    "import warnings\n",
    "\n",
    "warnings.filterwarnings(\"ignore\")\n",
    "\n",
    "import pandas as pd\n",
    "import intedact\n",
    "import plotly"
   ]
  },
  {
   "cell_type": "markdown",
   "metadata": {},
   "source": [
    "For our first example, we plot the name of countries who have had GDPR violations.\n",
    "By default, the plot will try to order and orient the columns appropriately. Here we order by descending count\n",
    "and the plot was flipped horizontally due to the number of levels in the variable.\n",
    "\n",
    "\n"
   ]
  },
  {
   "cell_type": "code",
   "execution_count": null,
   "metadata": {
    "collapsed": false,
    "jupyter": {
     "outputs_hidden": false
    },
    "pycharm": {
     "name": "#%%\n"
    }
   },
   "outputs": [],
   "source": [
    "data = pd.read_csv(\n",
    "    \"https://raw.githubusercontent.com/rfordatascience/tidytuesday/master/data/2020/2020-04-21/gdpr_violations.tsv\",\n",
    "    sep=\"\\t\",\n",
    ")\n",
    "fig = intedact.categorical_summary(data, \"name\", fig_width=700)\n",
    "plotly.io.show(fig)"
   ]
  },
  {
   "cell_type": "markdown",
   "metadata": {
    "pycharm": {
     "name": "#%% md\n"
    }
   },
   "source": [
    "We can do additional things such as condense extra columns into an \"Other\" column, add a bar for missing values,\n",
    "and change the sort order to sort alphabetically.\n",
    "\n",
    "\n"
   ]
  },
  {
   "cell_type": "code",
   "execution_count": null,
   "metadata": {
    "collapsed": false,
    "jupyter": {
     "outputs_hidden": false
    },
    "pycharm": {
     "name": "#%%\n"
    }
   },
   "outputs": [],
   "source": [
    "fig = intedact.categorical_summary(\n",
    "    data, \"name\", include_missing=True, order=\"sorted\", max_levels=5, fig_width=700,\n",
    ")\n",
    "plotly.io.show(fig)"
   ]
  }
 ],
 "metadata": {
  "kernelspec": {
   "display_name": "intedact",
   "language": "python",
   "name": "intedact"
  },
  "language_info": {
   "codemirror_mode": {
    "name": "ipython",
    "version": 3
   },
   "file_extension": ".py",
   "mimetype": "text/x-python",
   "name": "python",
   "nbconvert_exporter": "python",
   "pygments_lexer": "ipython3",
   "version": "3.9.12"
  }
 },
 "nbformat": 4,
 "nbformat_minor": 4
}