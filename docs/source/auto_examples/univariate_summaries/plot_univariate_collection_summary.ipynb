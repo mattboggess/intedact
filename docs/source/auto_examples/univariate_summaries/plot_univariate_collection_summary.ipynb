{
  "cells": [
    {
      "cell_type": "code",
      "execution_count": null,
      "metadata": {
        "collapsed": false
      },
      "outputs": [],
      "source": [
        "%matplotlib inline"
      ]
    },
    {
      "cell_type": "markdown",
      "metadata": {},
      "source": [
        "\n# Univariate Collection Summary\n\nExample of univariate eda summary for a collection variable (lists, tuples, sets, etc.).\n\nThe collection summary computes the following:\n\n- Three separate countplots:\n  - Counts for all the unique collections\n  - Counts for all the unique entries\n  - Counts for the number of entries in each collection\n"
      ]
    },
    {
      "cell_type": "code",
      "execution_count": null,
      "metadata": {
        "collapsed": false
      },
      "outputs": [],
      "source": [
        "import pandas as pd\nimport intedact\nimport plotly"
      ]
    },
    {
      "cell_type": "markdown",
      "metadata": {},
      "source": [
        "Here we take a look at which articles of GDPR countries violated. We first have to process the column so it is\na list and not a string. One can also choose whether to sort the values (ignore order of how they're listed) and\nremove duplicates (only consider unique entries)\n\n\n"
      ]
    },
    {
      "cell_type": "code",
      "execution_count": null,
      "metadata": {
        "collapsed": false
      },
      "outputs": [],
      "source": [
        "data = pd.read_csv(\n    \"https://raw.githubusercontent.com/rfordatascience/tidytuesday/master/data/2020/2020-04-21/gdpr_violations.tsv\",\n    sep=\"\\t\",\n)\ndata[\"article_violated\"] = data[\"article_violated\"].apply(lambda x: x.split(\"|\"))\n\nfig = intedact.collection_summary(data, \"article_violated\", fig_width=700)\nplotly.io.show(fig)"
      ]
    }
  ],
  "metadata": {
    "kernelspec": {
      "display_name": "Python 3",
      "language": "python",
      "name": "python3"
    },
    "language_info": {
      "codemirror_mode": {
        "name": "ipython",
        "version": 3
      },
      "file_extension": ".py",
      "mimetype": "text/x-python",
      "name": "python",
      "nbconvert_exporter": "python",
      "pygments_lexer": "ipython3",
      "version": "3.9.12"
    }
  },
  "nbformat": 4,
  "nbformat_minor": 0
}